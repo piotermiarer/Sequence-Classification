{
 "cells": [
  {
   "cell_type": "code",
   "execution_count": 2,
   "metadata": {
    "collapsed": true
   },
   "outputs": [],
   "source": [
    "import numpy as np\n",
    "from sequence_classifier_comparator import SequenceClassifierComparator\n",
    "from svm_classifier import SVMClassifier\n",
    "svm_classifier = SVMClassifier()\n",
    "svm_transformer = svm_classifier.get_transformer()\n"
   ]
  },
  {
   "cell_type": "code",
   "execution_count": 3,
   "metadata": {
    "collapsed": false
   },
   "outputs": [],
   "source": [
    "comparator = SequenceClassifierComparator()\n",
    "comparator.add_classifier(svm_classifier, svm_transformer)\n",
    "\n",
    "input_data = [\n",
    "    'This is the first document.',\n",
    "    'This document is the second document.',\n",
    "    'And this is the third one.',\n",
    "    'Is this the first document?',\n",
    "]\n",
    "X_train = input_data\n",
    "# X_train = [[1, 2, 1, 0], [0, 0, 2, 1], [1, 1, 1, 1], [0, 2, 0, 2]]\n",
    "\n",
    "y_train = [1, 2, 1, 2]\n",
    "comparator.fit_classifiers(X_train, y_train)\n",
    "\n"
   ]
  },
  {
   "cell_type": "code",
   "execution_count": 4,
   "metadata": {},
   "outputs": [
    {
     "name": "stdout",
     "output_type": "stream",
     "text": [
      "[2]\n"
     ]
    }
   ],
   "source": [
    "# prediction\n",
    "print(svm_classifier.predict([[0, 3, 1, 1, 2, 0, 0, 0, 1]]))"
   ]
  },
  {
   "cell_type": "code",
   "execution_count": 6,
   "metadata": {
    "collapsed": true
   },
   "outputs": [
    {
     "name": "stdout",
     "output_type": "stream",
     "text": [
      "Classifier SVM got 0.75 accuracy\nClassifier SVM got 0.75 accuracy\n"
     ]
    }
   ],
   "source": [
    "X_test = input_data\n",
    "y_test = np.array([1, 2, 1, 1])\n",
    "for name, accuracy in comparator.score_classifiers(X_test, y_test):\n",
    "    print('Classifier {} got {} accuracy'.format(name, accuracy))\n",
    "\n"
   ]
  }
 ],
 "metadata": {
  "kernelspec": {
   "display_name": "Python 2",
   "language": "python",
   "name": "python2"
  },
  "language_info": {
   "codemirror_mode": {
    "name": "ipython",
    "version": 2
   },
   "file_extension": ".py",
   "mimetype": "text/x-python",
   "name": "python",
   "nbconvert_exporter": "python",
   "pygments_lexer": "ipython2",
   "version": "2.7.6"
  }
 },
 "nbformat": 4,
 "nbformat_minor": 0
}
