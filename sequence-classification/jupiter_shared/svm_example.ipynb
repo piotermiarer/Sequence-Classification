{
 "cells": [
  {
   "cell_type": "code",
   "execution_count": 1,
   "metadata": {
    "collapsed": true
   },
   "outputs": [
    {
     "name": "stderr",
     "output_type": "stream",
     "text": [
      "D:\\Anaconda\\lib\\site-packages\\h5py\\__init__.py:72: UserWarning: h5py is running against HDF5 1.10.2 when it was built against 1.10.3, this may cause problems\n  '{0}.{1}.{2}'.format(*version.hdf5_built_version_tuple)\nUsing TensorFlow backend.\n"
     ]
    }
   ],
   "source": [
    "import numpy as np\n",
    "from sequence_classifier_comparator import SequenceClassifierComparator\n",
    "from svm_classifier import SVMClassifier\n",
    "from keras.datasets import imdb\n",
    "svm_classifier = SVMClassifier()\n",
    "svm_transformer = svm_classifier.get_transformer()\n",
    "top_words = 5000\n",
    "(X_train, y_train), (X_test, y_test) = imdb.load_data(num_words=top_words)\n",
    "\n"
   ]
  },
  {
   "cell_type": "code",
   "execution_count": 2,
   "metadata": {
    "collapsed": false
   },
   "outputs": [],
   "source": [
    "comparator = SequenceClassifierComparator()\n",
    "comparator.add_classifier(svm_classifier, svm_transformer)\n",
    "\n",
    "X_train = X_train\n",
    "# X_train = [[1, 2, 1, 0], [0, 0, 2, 1], [1, 1, 1, 1], [0, 2, 0, 2]]\n",
    "# y_train = [1, 2, 1, 2]\n",
    "\n",
    "y_train = y_train\n",
    "comparator.fit_classifiers(X_train, y_train)\n",
    "\n",
    "\n",
    "\n"
   ]
  },
  {
   "cell_type": "code",
   "execution_count": 6,
   "metadata": {
    "collapsed": false
   },
   "outputs": [
    {
     "name": "stdout",
     "output_type": "stream",
     "text": [
      "stringifying\n"
     ]
    },
    {
     "name": "stdout",
     "output_type": "stream",
     "text": [
      "processed transformaction\n"
     ]
    },
    {
     "name": "stdout",
     "output_type": "stream",
     "text": [
      "Classifier SVM got 0.82872 accuracy\nClassifier SVM got 0.82872 accuracy\nClassifier SVM got 0.82872 accuracy\nClassifier SVM got 0.82872 accuracy\n"
     ]
    }
   ],
   "source": [
    "for name, accuracy in comparator.score_classifiers(X_test, y_test):\n",
    "    print('Classifier {} got {} accuracy'.format(name, accuracy))\n",
    "\n",
    "\n"
   ]
  },
  {
   "cell_type": "code",
   "execution_count": null,
   "metadata": {},
   "outputs": [],
   "source": []
  }
 ],
 "metadata": {
  "kernelspec": {
   "display_name": "Python 2",
   "language": "python",
   "name": "python2"
  },
  "language_info": {
   "codemirror_mode": {
    "name": "ipython",
    "version": 2
   },
   "file_extension": ".py",
   "mimetype": "text/x-python",
   "name": "python",
   "nbconvert_exporter": "python",
   "pygments_lexer": "ipython2",
   "version": "2.7.6"
  }
 },
 "nbformat": 4,
 "nbformat_minor": 0
}
