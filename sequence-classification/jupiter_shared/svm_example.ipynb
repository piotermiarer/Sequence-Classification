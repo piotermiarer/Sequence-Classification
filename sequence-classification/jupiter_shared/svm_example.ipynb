{
 "cells": [
  {
   "cell_type": "code",
   "execution_count": 7,
   "metadata": {
    "collapsed": true
   },
   "outputs": [],
   "source": [
    "import numpy as np\n",
    "from sequence_classifier_comparator import SequenceClassifierComparator\n",
    "from svm_classifier import SVMClassifier\n",
    "svm_classifier = SVMClassifier()\n",
    "svm_transformer = svm_classifier.get_transformer()  "
   ]
  },
  {
   "cell_type": "code",
   "execution_count": 8,
   "metadata": {},
   "outputs": [],
   "source": [
    "#manual transformer \n",
    "from sklearn.feature_extraction.text import CountVectorizer\n",
    "def transformer(raw_data):\n",
    "    vectorizer = CountVectorizer()\n",
    "    X = vectorizer.fit_transform(corpus)\n",
    "    return X.toarray()\n",
    "    "
   ]
  },
  {
   "cell_type": "code",
   "execution_count": null,
   "metadata": {
    "collapsed": false
   },
   "outputs": [],
   "source": [
    "comparator = SequenceClassifierComparator()\n",
    "comparator.add_classifier(svm_classifier, svm_transformer)\n",
    "\n",
    "corpus = [\n",
    "    'This is the first document.',\n",
    "    'This document is the second document.',\n",
    "    'And this is the third one.',\n",
    "    'Is this the first document?',\n",
    "]\n",
    "X_train = transformer(corpus)\n",
    "print(X_train)\n",
    "# X_train = [[1, 2, 1, 0], [0, 0, 2, 1], [1, 1, 1, 1], [0, 2, 0, 2]]\n",
    "\n",
    "y_train = [1, 2, 1, 2]\n",
    "comparator.fit_classifiers(X_train, y_train)\n",
    "\n"
   ]
  },
  {
   "cell_type": "code",
   "execution_count": 10,
   "metadata": {},
   "outputs": [
    {
     "name": "stdout",
     "output_type": "stream",
     "text": [
      "[2]\n"
     ]
    }
   ],
   "source": [
    "# prediction\n",
    "print(svm_classifier.predict([[0, 3, 1, 1,2 , 0, 0, 0, 1]]))"
   ]
  },
  {
   "cell_type": "code",
   "execution_count": 12,
   "metadata": {
    "collapsed": true
   },
   "outputs": [
    {
     "name": "stdout",
     "output_type": "stream",
     "text": [
      "Classifier SVM got 0.75 accuracy\n"
     ]
    }
   ],
   "source": [
    "X_test = np.array([[0, 1, 1, 1, 0, 0, 1, 0, 1]\n",
    "                      ,[0, 2, 0, 1, 0, 1, 1, 0, 1]\n",
    "                      ,[1, 0, 0, 1, 1, 0, 1, 1, 1]\n",
    "                      ,[0, 1, 1, 1, 0, 0, 1, 0, 1, ]])\n",
    "y_test = np.array([1, 2, 1, 1])\n",
    "for name, accuracy in comparator.score_classifiers(X_test, y_test):\n",
    "    print('Classifier {} got {} accuracy'.format(name, accuracy))\n"
   ]
  },
  {
   "cell_type": "code",
   "execution_count": 13,
   "metadata": {},
   "outputs": [],
   "source": [
    ""
   ]
  }
 ],
 "metadata": {
  "kernelspec": {
   "display_name": "Python 2",
   "language": "python",
   "name": "python2"
  },
  "language_info": {
   "codemirror_mode": {
    "name": "ipython",
    "version": 2
   },
   "file_extension": ".py",
   "mimetype": "text/x-python",
   "name": "python",
   "nbconvert_exporter": "python",
   "pygments_lexer": "ipython2",
   "version": "2.7.6"
  }
 },
 "nbformat": 4,
 "nbformat_minor": 0
}
